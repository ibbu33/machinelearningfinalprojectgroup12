{
  "nbformat": 4,
  "nbformat_minor": 0,
  "metadata": {
    "colab": {
      "provenance": [],
      "authorship_tag": "ABX9TyPJXIUQ1CT/zmLvVcXARsZY",
      "include_colab_link": true
    },
    "kernelspec": {
      "name": "python3",
      "display_name": "Python 3"
    },
    "language_info": {
      "name": "python"
    }
  },
  "cells": [
    {
      "cell_type": "markdown",
      "metadata": {
        "id": "view-in-github",
        "colab_type": "text"
      },
      "source": [
        "<a href=\"https://colab.research.google.com/github/ibbu33/machinelearningfinalprojectgroup12/blob/main/ConcreteStrengthFinall.ipynb\" target=\"_parent\"><img src=\"https://colab.research.google.com/assets/colab-badge.svg\" alt=\"Open In Colab\"/></a>"
      ]
    },
    {
      "cell_type": "code",
      "execution_count": 1,
      "metadata": {
        "id": "8u7vVFupi2Df"
      },
      "outputs": [],
      "source": [
        "import pandas as pd\n",
        "import numpy as np\n",
        "from sklearn.model_selection import train_test_split, GridSearchCV, cross_val_score\n",
        "from sklearn.preprocessing import StandardScaler\n",
        "from sklearn.linear_model import LinearRegression\n",
        "from sklearn.ensemble import RandomForestRegressor, GradientBoostingRegressor\n",
        "from sklearn.neural_network import MLPRegressor\n",
        "from sklearn.metrics import r2_score, mean_absolute_error, mean_squared_error\n",
        "import matplotlib.pyplot as plt\n"
      ]
    },
    {
      "cell_type": "code",
      "source": [
        "#load data set and prepare variables\n",
        "\n",
        "url = \"https://archive.ics.uci.edu/ml/machine-learning-databases/concrete/compressive/Concrete_Data.xls\"\n",
        "df = pd.read_excel(url)\n",
        "\n",
        "#renaming for clarity\n",
        "df.columns = ['Cement', 'BlastFurnaceSlag', 'FlyAsh', 'Water', 'Superplasticizer',\n",
        "              'CoarseAggregate', 'FineAggregate', 'Age', 'CompressiveStrength']\n",
        "\n",
        "#seperating the input from variable features\n",
        "X = df.drop('CompressiveStrength', axis=1)\n",
        "y = df['CompressiveStrength']\n",
        "\n",
        "X_train, X_test, y_train, y_test = train_test_split(X, y, test_size=0.2, random_state=42)\n",
        "\n",
        "#rescale data to fit\n",
        "scaler = StandardScaler()\n",
        "X_train_scaled = scaler.fit_transform(X_train)\n",
        "X_test_scaled = scaler.transform(X_test)\n"
      ],
      "metadata": {
        "id": "5eXAIPhji6sH"
      },
      "execution_count": 2,
      "outputs": []
    },
    {
      "cell_type": "code",
      "source": [
        "#Linear regression training model\n",
        "\n",
        "lr = LinearRegression()\n",
        "lr.fit(X_train_scaled, y_train)\n",
        "y_pred_lr = lr.predict(X_test_scaled)\n",
        "\n",
        "#evaluate the model using r2, mae, and mse (is consistent for all training models)\n",
        "r2_lr = r2_score(y_test, y_pred_lr)\n",
        "mae_lr = mean_absolute_error(y_test, y_pred_lr)\n",
        "mse_lr = mean_squared_error(y_test, y_pred_lr)\n"
      ],
      "metadata": {
        "id": "ypKTwanhjDIZ"
      },
      "execution_count": 3,
      "outputs": []
    },
    {
      "cell_type": "code",
      "source": [
        "#random forest training model\n",
        "\n",
        "rf = RandomForestRegressor(random_state=42)\n",
        "rf.fit(X_train, y_train)\n",
        "y_pred_rf = rf.predict(X_test)\n",
        "\n",
        "r2_rf = r2_score(y_test, y_pred_rf)\n",
        "mae_rf = mean_absolute_error(y_test, y_pred_rf)\n",
        "mse_rf = mean_squared_error(y_test, y_pred_rf)\n"
      ],
      "metadata": {
        "id": "weZDSQxNjL8C"
      },
      "execution_count": 4,
      "outputs": []
    },
    {
      "cell_type": "code",
      "source": [
        "#gradient boost training model\n",
        "\n",
        "gbm = GradientBoostingRegressor(random_state=42)\n",
        "gbm.fit(X_train, y_train)\n",
        "y_pred_gbm = gbm.predict(X_test)\n",
        "\n",
        "r2_gbm = r2_score(y_test, y_pred_gbm)\n",
        "mae_gbm = mean_absolute_error(y_test, y_pred_gbm)\n",
        "mse_gbm = mean_squared_error(y_test, y_pred_gbm)\n"
      ],
      "metadata": {
        "id": "0Mso8y8vjQ4D"
      },
      "execution_count": 5,
      "outputs": []
    },
    {
      "cell_type": "code",
      "source": [
        "#nueral netwrok training model\n",
        "\n",
        "#initialize neural network with two hidden layers of 64 neurons each, relu to activate and training for 1000 iterations\n",
        "nn = MLPRegressor(hidden_layer_sizes=(64, 64), activation='relu', max_iter=1000, random_state=42)\n",
        "nn.fit(X_train_scaled, y_train)\n",
        "y_pred_nn = nn.predict(X_test_scaled)\n",
        "\n",
        "r2_nn = r2_score(y_test, y_pred_nn)\n",
        "mae_nn = mean_absolute_error(y_test, y_pred_nn)\n",
        "mse_nn = mean_squared_error(y_test, y_pred_nn)\n"
      ],
      "metadata": {
        "id": "cFNRDL_rjU-g"
      },
      "execution_count": 6,
      "outputs": []
    },
    {
      "cell_type": "code",
      "source": [
        "#linear reg tuning\n",
        "\n",
        "from sklearn.linear_model import Ridge\n",
        "\n",
        "param_grid_lr = {\n",
        "    'alpha': [0.1, 1.0, 10.0, 100.0] #lower alpha score means less regulation and higher alpha score indicates more penalties on coeffiecents\n",
        "}\n",
        "\n",
        "#5 cross fold val and using r2 as the scoring metric (applicable to all models below)\n",
        "grid_lr = GridSearchCV(Ridge(), param_grid_lr, cv=5, scoring='r2')\n",
        "#find best performing linear model (will scale accross all model tuning)\n",
        "grid_lr.fit(X_train_scaled, y_train)\n",
        "best_lr = grid_lr.best_estimator_\n",
        "print(\"Best Linear Params:\", grid_lr.best_params_)\n"
      ],
      "metadata": {
        "colab": {
          "base_uri": "https://localhost:8080/"
        },
        "id": "BS4uoX_kj2mV",
        "outputId": "d34b138c-caf5-4f48-c1f8-8dd6b02cc0f2"
      },
      "execution_count": 7,
      "outputs": [
        {
          "output_type": "stream",
          "name": "stdout",
          "text": [
            "Best Linear Params: {'alpha': 1.0}\n"
          ]
        }
      ]
    },
    {
      "cell_type": "code",
      "source": [
        "#random forest hyperparameter tuning\n",
        "\n",
        "param_grid_rf = {\n",
        "    'n_estimators': [100, 200, 300], # represents # of trees in the forest\n",
        "    'max_depth': [None, 10, 20, 30], # max depth of each tree\n",
        "    'min_samples_split': [2, 5, 10] #what is the min required to split the node\n",
        "}\n",
        "\n",
        "grid_rf = GridSearchCV(RandomForestRegressor(random_state=42), param_grid_rf, cv=5, scoring='r2')\n",
        "grid_rf.fit(X_train, y_train)\n",
        "best_rf = grid_rf.best_estimator_\n",
        "print(\"Best Random Forest Params:\", grid_rf.best_params_)\n",
        "\n"
      ],
      "metadata": {
        "colab": {
          "base_uri": "https://localhost:8080/"
        },
        "id": "RHMnKF0ajaLg",
        "outputId": "05ae894f-6c9e-4d5d-8091-3596ec2a1d78"
      },
      "execution_count": 8,
      "outputs": [
        {
          "output_type": "stream",
          "name": "stdout",
          "text": [
            "Best Random Forest Params: {'max_depth': None, 'min_samples_split': 2, 'n_estimators': 300}\n"
          ]
        }
      ]
    },
    {
      "cell_type": "code",
      "source": [
        "#gradient boost tuning\n",
        "\n",
        "param_grid_gbm = {\n",
        "    'n_estimators': [100, 200],\n",
        "    'learning_rate': [0.05, 0.1, 0.2], #lower = slower, higher = faster\n",
        "    'max_depth': [3, 5, 7],\n",
        "    'subsample': [0.8, 1.0] #help to reduce overfitting by fractioning samples per tree\n",
        "}\n",
        "\n",
        "grid_gbm = GridSearchCV(GradientBoostingRegressor(random_state=42), param_grid_gbm, cv=5, scoring='r2')\n",
        "grid_gbm.fit(X_train, y_train)\n",
        "best_gbm = grid_gbm.best_estimator_\n",
        "print(\"Best GBM Params:\", grid_gbm.best_params_)\n",
        "\n"
      ],
      "metadata": {
        "colab": {
          "base_uri": "https://localhost:8080/"
        },
        "id": "__Y6ZX4mj6Te",
        "outputId": "fc7c421f-f9a9-419a-ffa6-b4629cdd9bb5"
      },
      "execution_count": 9,
      "outputs": [
        {
          "output_type": "stream",
          "name": "stdout",
          "text": [
            "Best GBM Params: {'learning_rate': 0.05, 'max_depth': 5, 'n_estimators': 200, 'subsample': 0.8}\n"
          ]
        }
      ]
    },
    {
      "cell_type": "code",
      "source": [
        "# Neural Network Tuning\n",
        "param_grid_nn = {\n",
        "    'hidden_layer_sizes': [(64, 64), (128, 64), (128, 128)], # number of neurons per hidden layer\n",
        "    'activation': ['relu', 'tanh'], # activate hidden layers relu and tanh\n",
        "    'learning_rate_init': [0.001, 0.01], # this is the inital learning rate\n",
        "    'alpha': [0.0001, 0.001], #overfitting prevention\n",
        "    'max_iter': [2000],  # increased to allow convergence\n",
        "    'early_stopping': [True], #stop training if val score does not improve\n",
        "    'validation_fraction': [0.1] # this represents the portion of data training when early stop is enabled, again to optimize time mainly\n",
        "}\n",
        "\n",
        "grid_nn = GridSearchCV(MLPRegressor(random_state=42), param_grid_nn, cv=5, scoring='r2', n_jobs=-1)\n",
        "grid_nn.fit(X_train_scaled, y_train)\n",
        "\n",
        "best_nn = grid_nn.best_estimator_\n",
        "print(\"Best NUeral Network Params:\", grid_nn.best_params_)\n",
        "\n"
      ],
      "metadata": {
        "colab": {
          "base_uri": "https://localhost:8080/"
        },
        "id": "iXy_XQWgj_Yc",
        "outputId": "71177815-7a66-49dd-d9da-2ae0e6ec5884"
      },
      "execution_count": 10,
      "outputs": [
        {
          "output_type": "stream",
          "name": "stdout",
          "text": [
            "Best NUeral Network Params: {'activation': 'tanh', 'alpha': 0.0001, 'early_stopping': True, 'hidden_layer_sizes': (128, 128), 'learning_rate_init': 0.01, 'max_iter': 2000, 'validation_fraction': 0.1}\n"
          ]
        }
      ]
    },
    {
      "cell_type": "code",
      "source": [
        "#cross val score - linear regression\n",
        "\n",
        "from sklearn.preprocessing import StandardScaler\n",
        "\n",
        "#standardize accross all for consitency across folds\n",
        "scaler = StandardScaler()\n",
        "X_scaled = scaler.fit_transform(X)  # scale the full dataset\n",
        "\n",
        "cv_scores_lr = cross_val_score(best_lr, X_scaled, y, cv=5, scoring='r2')\n",
        "print(\"Ridge CV r2:\", np.round(cv_scores_lr, 3))\n",
        "print(\"Mean:\", np.mean(cv_scores_lr).round(3))\n",
        "\n"
      ],
      "metadata": {
        "id": "1-2AKDrjkQ6j",
        "colab": {
          "base_uri": "https://localhost:8080/"
        },
        "outputId": "04edf81b-7cec-4805-bf08-c061522d4d30"
      },
      "execution_count": 11,
      "outputs": [
        {
          "output_type": "stream",
          "name": "stdout",
          "text": [
            "Ridge CV r2: [0.335 0.411 0.455 0.608 0.5  ]\n",
            "Mean: 0.462\n"
          ]
        }
      ]
    },
    {
      "cell_type": "code",
      "source": [
        "#cross val score - random forest\n",
        "\n",
        "cv_scores_rf = cross_val_score(best_rf, X, y, cv=5, scoring='r2')\n",
        "print(\"RF CV r2:\", np.round(cv_scores_rf, 3))\n",
        "print(\"Mean:\", np.mean(cv_scores_rf).round(3))\n",
        "\n"
      ],
      "metadata": {
        "id": "ApGvGZgAkWcW",
        "colab": {
          "base_uri": "https://localhost:8080/"
        },
        "outputId": "76120725-a8bd-4a7c-95da-dffa206d7dc7"
      },
      "execution_count": 12,
      "outputs": [
        {
          "output_type": "stream",
          "name": "stdout",
          "text": [
            "RF CV r2: [ 0.658  0.668  0.746  0.833 -1.253]\n",
            "Mean: 0.33\n"
          ]
        }
      ]
    },
    {
      "cell_type": "code",
      "source": [
        "#cross val score - gradient boosting\n",
        "\n",
        "cv_scores_gbm = cross_val_score(best_gbm, X, y, cv=5, scoring='r2')\n",
        "print(\"GBM CV r2:\", np.round(cv_scores_gbm, 3))\n",
        "print(\"Mean:\", np.mean(cv_scores_gbm).round(3))\n",
        "\n"
      ],
      "metadata": {
        "id": "uHfsgkYpkb74",
        "colab": {
          "base_uri": "https://localhost:8080/"
        },
        "outputId": "93120d9e-cfbb-4a39-a94d-1a6f80d42c15"
      },
      "execution_count": 13,
      "outputs": [
        {
          "output_type": "stream",
          "name": "stdout",
          "text": [
            "GBM CV r2: [ 0.788  0.713  0.755  0.872 -0.984]\n",
            "Mean: 0.429\n"
          ]
        }
      ]
    },
    {
      "cell_type": "code",
      "source": [
        "#cross val score - nueral networks\n",
        "\n",
        "cv_scores_nn = cross_val_score(best_nn, X_scaled, y, cv=5, scoring='r2')\n",
        "print(\"NN CV r2:\", np.round(cv_scores_nn, 3))\n",
        "print(\"Mean:\", np.mean(cv_scores_nn).round(3))\n"
      ],
      "metadata": {
        "id": "NWViJTXVkhdO",
        "colab": {
          "base_uri": "https://localhost:8080/"
        },
        "outputId": "f55a12ad-fa95-4dda-f02d-947d31f4e986"
      },
      "execution_count": 14,
      "outputs": [
        {
          "output_type": "stream",
          "name": "stdout",
          "text": [
            "NN CV r2: [ 0.32   0.748  0.553  0.901 -0.102]\n",
            "Mean: 0.484\n"
          ]
        }
      ]
    },
    {
      "cell_type": "code",
      "source": [
        "#summary of r2 scores mapped\n",
        "\n",
        "import matplotlib.pyplot as plt\n",
        "import seaborn as sns\n",
        "\n",
        "models = ['Linear Regression', 'Random Forest', 'GBM', 'Neural Network']\n",
        "r2_scores = [r2_lr, r2_rf, r2_gbm, r2_nn]\n",
        "\n",
        "plt.figure(figsize=(8, 5))\n",
        "sns.barplot(x=models, y=r2_scores)\n",
        "plt.ylim(0, 1)\n",
        "plt.ylabel('r2 Score')\n",
        "plt.title('Model Comparison – r2 Score')\n",
        "plt.tight_layout()\n",
        "plt.show()\n"
      ],
      "metadata": {
        "colab": {
          "base_uri": "https://localhost:8080/",
          "height": 507
        },
        "id": "Uk79BydGmuJ-",
        "outputId": "8c1a2cee-612b-4ab1-cf95-14688b38cc99"
      },
      "execution_count": 15,
      "outputs": [
        {
          "output_type": "display_data",
          "data": {
            "text/plain": [
              "<Figure size 800x500 with 1 Axes>"
            ],
            "image/png": "[encoded data removed]"
          },
          "metadata": {}
        }
      ]
    },
    {
      "cell_type": "code",
      "source": [
        "#summary of trained models\n",
        "\n",
        "performance = pd.DataFrame({\n",
        "    'Model': models,\n",
        "    'r2': [r2_lr, r2_rf, r2_gbm, r2_nn],\n",
        "    'MAE': [mae_lr, mae_rf, mae_gbm, mae_nn],\n",
        "    'MSE': [mse_lr, mse_rf, mse_gbm, mse_nn]\n",
        "})\n",
        "print(performance)\n"
      ],
      "metadata": {
        "id": "EFkCG6IZkvSn",
        "colab": {
          "base_uri": "https://localhost:8080/"
        },
        "outputId": "0ddf3fd0-9e2b-4152-90cb-89202967e2d7"
      },
      "execution_count": 16,
      "outputs": [
        {
          "output_type": "stream",
          "name": "stdout",
          "text": [
            "               Model        r2       MAE        MSE\n",
            "0  Linear Regression  0.627542  7.745393  95.975484\n",
            "1      Random Forest  0.882187  3.754819  30.358062\n",
            "2                GBM  0.880798  4.100611  30.716163\n",
            "3     Neural Network  0.877097  4.017002  31.669664\n"
          ]
        }
      ]
    },
    {
      "cell_type": "code",
      "source": [
        "#actual vs predicted strength testing\n",
        "import pandas as pd\n",
        "\n",
        "sample = X_test.iloc[:5]\n",
        "preds = best_nn.predict(X_test_scaled[:5])\n",
        "\n",
        "pd.DataFrame({\n",
        "    'Cement': X_test.iloc[:5]['Cement'],\n",
        "    'Water': X_test.iloc[:5]['Water'],\n",
        "    'Age': X_test.iloc[:5]['Age'],\n",
        "    'Actual Strength': y_test.iloc[:5].values,\n",
        "    'Predicted Strength': np.round(y_pred_rf[:5], 2)\n",
        "})\n"
      ],
      "metadata": {
        "colab": {
          "base_uri": "https://localhost:8080/",
          "height": 206
        },
        "id": "MXfo7DNQrdu7",
        "outputId": "f877a61c-cc01-4a6a-add4-a95c811b7022"
      },
      "execution_count": 17,
      "outputs": [
        {
          "output_type": "execute_result",
          "data": {
            "text/plain": [
              "     Cement  Water  Age  Actual Strength  Predicted Strength\n",
              "31    266.0  228.0  365        52.908320               51.93\n",
              "109   362.6  164.9    7        55.895819               40.68\n",
              "136   389.9  145.9   28        74.497882               70.81\n",
              "88    362.6  164.9    3        35.301171               34.92\n",
              "918   145.0  202.0   28        10.535193               11.16"
            ],
            "text/html": [
              "\n",
              "  <div id=\"df-8c136012-5ee7-4287-9878-253686f925e0\" class=\"colab-df-container\">\n",
              "    <div>\n",
              "<style scoped>\n",
              "    .dataframe tbody tr th:only-of-type {\n",
              "        vertical-align: middle;\n",
              "    }\n",
              "\n",
              "    .dataframe tbody tr th {\n",
              "        vertical-align: top;\n",
              "    }\n",
              "\n",
              "    .dataframe thead th {\n",
              "        text-align: right;\n",
              "    }\n",
              "</style>\n",
              "<table border=\"1\" class=\"dataframe\">\n",
              "  <thead>\n",
              "    <tr style=\"text-align: right;\">\n",
              "      <th></th>\n",
              "      <th>Cement</th>\n",
              "      <th>Water</th>\n",
              "      <th>Age</th>\n",
              "      <th>Actual Strength</th>\n",
              "      <th>Predicted Strength</th>\n",
              "    </tr>\n",
              "  </thead>\n",
              "  <tbody>\n",
              "    <tr>\n",
              "      <th>31</th>\n",
              "      <td>266.0</td>\n",
              "      <td>228.0</td>\n",
              "      <td>365</td>\n",
              "      <td>52.908320</td>\n",
              "      <td>51.93</td>\n",
              "    </tr>\n",
              "    <tr>\n",
              "      <th>109</th>\n",
              "      <td>362.6</td>\n",
              "      <td>164.9</td>\n",
              "      <td>7</td>\n",
              "      <td>55.895819</td>\n",
              "      <td>40.68</td>\n",
              "    </tr>\n",
              "    <tr>\n",
              "      <th>136</th>\n",
              "      <td>389.9</td>\n",
              "      <td>145.9</td>\n",
              "      <td>28</td>\n",
              "      <td>74.497882</td>\n",
              "      <td>70.81</td>\n",
              "    </tr>\n",
              "    <tr>\n",
              "      <th>88</th>\n",
              "      <td>362.6</td>\n",
              "      <td>164.9</td>\n",
              "      <td>3</td>\n",
              "      <td>35.301171</td>\n",
              "      <td>34.92</td>\n",
              "    </tr>\n",
              "    <tr>\n",
              "      <th>918</th>\n",
              "      <td>145.0</td>\n",
              "      <td>202.0</td>\n",
              "      <td>28</td>\n",
              "      <td>10.535193</td>\n",
              "      <td>11.16</td>\n",
              "    </tr>\n",
              "  </tbody>\n",
              "</table>\n",
              "</div>\n",
              "    <div class=\"colab-df-buttons\">\n",
              "\n",
              "  <div class=\"colab-df-container\">\n",
              "    <button class=\"colab-df-convert\" onclick=\"convertToInteractive('df-8c136012-5ee7-4287-9878-253686f925e0')\"\n",
              "            title=\"Convert this dataframe to an interactive table.\"\n",
              "            style=\"display:none;\">\n",
              "\n",
              "  <svg xmlns=\"http://www.w3.org/2000/svg\" height=\"24px\" viewBox=\"0 -960 960 960\">\n",
              "    <path d=\"M120-120v-720h720v720H120Zm60-500h600v-160H180v160Zm220 220h160v-160H400v160Zm0 220h160v-160H400v160ZM180-400h160v-160H180v160Zm440 0h160v-160H620v160ZM180-180h160v-160H180v160Zm440 0h160v-160H620v160Z\"/>\n",
              "  </svg>\n",
              "    </button>\n",
              "\n",
              "  <style>\n",
              "    .colab-df-container {\n",
              "      display:flex;\n",
              "      gap: 12px;\n",
              "    }\n",
              "\n",
              "    .colab-df-convert {\n",
              "      background-color: #E8F0FE;\n",
              "      border: none;\n",
              "      border-radius: 50%;\n",
              "      cursor: pointer;\n",
              "      display: none;\n",
              "      fill: #1967D2;\n",
              "      height: 32px;\n",
              "      padding: 0 0 0 0;\n",
              "      width: 32px;\n",
              "    }\n",
              "\n",
              "    .colab-df-convert:hover {\n",
              "      background-color: #E2EBFA;\n",
              "      box-shadow: 0px 1px 2px rgba(60, 64, 67, 0.3), 0px 1px 3px 1px rgba(60, 64, 67, 0.15);\n",
              "      fill: #174EA6;\n",
              "    }\n",
              "\n",
              "    .colab-df-buttons div {\n",
              "      margin-bottom: 4px;\n",
              "    }\n",
              "\n",
              "    [theme=dark] .colab-df-convert {\n",
              "      background-color: #3B4455;\n",
              "      fill: #D2E3FC;\n",
              "    }\n",
              "\n",
              "    [theme=dark] .colab-df-convert:hover {\n",
              "      background-color: #434B5C;\n",
              "      box-shadow: 0px 1px 3px 1px rgba(0, 0, 0, 0.15);\n",
              "      filter: drop-shadow(0px 1px 2px rgba(0, 0, 0, 0.3));\n",
              "      fill: #FFFFFF;\n",
              "    }\n",
              "  </style>\n",
              "\n",
              "    <script>\n",
              "      const buttonEl =\n",
              "        document.querySelector('#df-8c136012-5ee7-4287-9878-253686f925e0 button.colab-df-convert');\n",
              "      buttonEl.style.display =\n",
              "        google.colab.kernel.accessAllowed ? 'block' : 'none';\n",
              "\n",
              "      async function convertToInteractive(key) {\n",
              "        const element = document.querySelector('#df-8c136012-5ee7-4287-9878-253686f925e0');\n",
              "        const dataTable =\n",
              "          await google.colab.kernel.invokeFunction('convertToInteractive',\n",
              "                                                    [key], {});\n",
              "        if (!dataTable) return;\n",
              "\n",
              "        const docLinkHtml = 'Like what you see? Visit the ' +\n",
              "          '<a target=\"_blank\" href=https://colab.research.google.com/notebooks/data_table.ipynb>data table notebook</a>'\n",
              "          + ' to learn more about interactive tables.';\n",
              "        element.innerHTML = '';\n",
              "        dataTable['output_type'] = 'display_data';\n",
              "        await google.colab.output.renderOutput(dataTable, element);\n",
              "        const docLink = document.createElement('div');\n",
              "        docLink.innerHTML = docLinkHtml;\n",
              "        element.appendChild(docLink);\n",
              "      }\n",
              "    </script>\n",
              "  </div>\n",
              "\n",
              "\n",
              "<div id=\"df-2c80a86c-c4cf-44a5-99ae-78f3e5bedf15\">\n",
              "  <button class=\"colab-df-quickchart\" onclick=\"quickchart('df-2c80a86c-c4cf-44a5-99ae-78f3e5bedf15')\"\n",
              "            title=\"Suggest charts\"\n",
              "            style=\"display:none;\">\n",
              "\n",
              "<svg xmlns=\"http://www.w3.org/2000/svg\" height=\"24px\"viewBox=\"0 0 24 24\"\n",
              "     width=\"24px\">\n",
              "    <g>\n",
              "        <path d=\"M19 3H5c-1.1 0-2 .9-2 2v14c0 1.1.9 2 2 2h14c1.1 0 2-.9 2-2V5c0-1.1-.9-2-2-2zM9 17H7v-7h2v7zm4 0h-2V7h2v10zm4 0h-2v-4h2v4z\"/>\n",
              "    </g>\n",
              "</svg>\n",
              "  </button>\n",
              "\n",
              "<style>\n",
              "  .colab-df-quickchart {\n",
              "      --bg-color: #E8F0FE;\n",
              "      --fill-color: #1967D2;\n",
              "      --hover-bg-color: #E2EBFA;\n",
              "      --hover-fill-color: #174EA6;\n",
              "      --disabled-fill-color: #AAA;\n",
              "      --disabled-bg-color: #DDD;\n",
              "  }\n",
              "\n",
              "  [theme=dark] .colab-df-quickchart {\n",
              "      --bg-color: #3B4455;\n",
              "      --fill-color: #D2E3FC;\n",
              "      --hover-bg-color: #434B5C;\n",
              "      --hover-fill-color: #FFFFFF;\n",
              "      --disabled-bg-color: #3B4455;\n",
              "      --disabled-fill-color: #666;\n",
              "  }\n",
              "\n",
              "  .colab-df-quickchart {\n",
              "    background-color: var(--bg-color);\n",
              "    border: none;\n",
              "    border-radius: 50%;\n",
              "    cursor: pointer;\n",
              "    display: none;\n",
              "    fill: var(--fill-color);\n",
              "    height: 32px;\n",
              "    padding: 0;\n",
              "    width: 32px;\n",
              "  }\n",
              "\n",
              "  .colab-df-quickchart:hover {\n",
              "    background-color: var(--hover-bg-color);\n",
              "    box-shadow: 0 1px 2px rgba(60, 64, 67, 0.3), 0 1px 3px 1px rgba(60, 64, 67, 0.15);\n",
              "    fill: var(--button-hover-fill-color);\n",
              "  }\n",
              "\n",
              "  .colab-df-quickchart-complete:disabled,\n",
              "  .colab-df-quickchart-complete:disabled:hover {\n",
              "    background-color: var(--disabled-bg-color);\n",
              "    fill: var(--disabled-fill-color);\n",
              "    box-shadow: none;\n",
              "  }\n",
              "\n",
              "  .colab-df-spinner {\n",
              "    border: 2px solid var(--fill-color);\n",
              "    border-color: transparent;\n",
              "    border-bottom-color: var(--fill-color);\n",
              "    animation:\n",
              "      spin 1s steps(1) infinite;\n",
              "  }\n",
              "\n",
              "  @keyframes spin {\n",
              "    0% {\n",
              "      border-color: transparent;\n",
              "      border-bottom-color: var(--fill-color);\n",
              "      border-left-color: var(--fill-color);\n",
              "    }\n",
              "    20% {\n",
              "      border-color: transparent;\n",
              "      border-left-color: var(--fill-color);\n",
              "      border-top-color: var(--fill-color);\n",
              "    }\n",
              "    30% {\n",
              "      border-color: transparent;\n",
              "      border-left-color: var(--fill-color);\n",
              "      border-top-color: var(--fill-color);\n",
              "      border-right-color: var(--fill-color);\n",
              "    }\n",
              "    40% {\n",
              "      border-color: transparent;\n",
              "      border-right-color: var(--fill-color);\n",
              "      border-top-color: var(--fill-color);\n",
              "    }\n",
              "    60% {\n",
              "      border-color: transparent;\n",
              "      border-right-color: var(--fill-color);\n",
              "    }\n",
              "    80% {\n",
              "      border-color: transparent;\n",
              "      border-right-color: var(--fill-color);\n",
              "      border-bottom-color: var(--fill-color);\n",
              "    }\n",
              "    90% {\n",
              "      border-color: transparent;\n",
              "      border-bottom-color: var(--fill-color);\n",
              "    }\n",
              "  }\n",
              "</style>\n",
              "\n",
              "  <script>\n",
              "    async function quickchart(key) {\n",
              "      const quickchartButtonEl =\n",
              "        document.querySelector('#' + key + ' button');\n",
              "      quickchartButtonEl.disabled = true;  // To prevent multiple clicks.\n",
              "      quickchartButtonEl.classList.add('colab-df-spinner');\n",
              "      try {\n",
              "        const charts = await google.colab.kernel.invokeFunction(\n",
              "            'suggestCharts', [key], {});\n",
              "      } catch (error) {\n",
              "        console.error('Error during call to suggestCharts:', error);\n",
              "      }\n",
              "      quickchartButtonEl.classList.remove('colab-df-spinner');\n",
              "      quickchartButtonEl.classList.add('colab-df-quickchart-complete');\n",
              "    }\n",
              "    (() => {\n",
              "      let quickchartButtonEl =\n",
              "        document.querySelector('#df-2c80a86c-c4cf-44a5-99ae-78f3e5bedf15 button');\n",
              "      quickchartButtonEl.style.display =\n",
              "        google.colab.kernel.accessAllowed ? 'block' : 'none';\n",
              "    })();\n",
              "  </script>\n",
              "</div>\n",
              "\n",
              "    </div>\n",
              "  </div>\n"
            ],
            "application/vnd.google.colaboratory.intrinsic+json": {
              "type": "dataframe",
              "summary": "{\n  \"name\": \"})\",\n  \"rows\": 5,\n  \"fields\": [\n    {\n      \"column\": \"Cement\",\n      \"properties\": {\n        \"dtype\": \"number\",\n        \"std\": 101.19818180184859,\n        \"min\": 145.0,\n        \"max\": 389.9,\n        \"num_unique_values\": 4,\n        \"samples\": [\n          362.6,\n          145.0,\n          266.0\n        ],\n        \"semantic_type\": \"\",\n        \"description\": \"\"\n      }\n    },\n    {\n      \"column\": \"Water\",\n      \"properties\": {\n        \"dtype\": \"number\",\n        \"std\": 33.16749915203134,\n        \"min\": 145.9,\n        \"max\": 228.0,\n        \"num_unique_values\": 4,\n        \"samples\": [\n          164.9,\n          202.0,\n          228.0\n        ],\n        \"semantic_type\": \"\",\n        \"description\": \"\"\n      }\n    },\n    {\n      \"column\": \"Age\",\n      \"properties\": {\n        \"dtype\": \"number\",\n        \"std\": 156,\n        \"min\": 3,\n        \"max\": 365,\n        \"num_unique_values\": 4,\n        \"samples\": [\n          7,\n          3,\n          365\n        ],\n        \"semantic_type\": \"\",\n        \"description\": \"\"\n      }\n    },\n    {\n      \"column\": \"Actual Strength\",\n      \"properties\": {\n        \"dtype\": \"number\",\n        \"std\": 24.13426178260247,\n        \"min\": 10.53519328,\n        \"max\": 74.4978818,\n        \"num_unique_values\": 5,\n        \"samples\": [\n          55.89581932,\n          10.53519328,\n          74.4978818\n        ],\n        \"semantic_type\": \"\",\n        \"description\": \"\"\n      }\n    },\n    {\n      \"column\": \"Predicted Strength\",\n      \"properties\": {\n        \"dtype\": \"number\",\n        \"std\": 21.974675196689482,\n        \"min\": 11.16,\n        \"max\": 70.81,\n        \"num_unique_values\": 5,\n        \"samples\": [\n          40.68,\n          11.16,\n          70.81\n        ],\n        \"semantic_type\": \"\",\n        \"description\": \"\"\n      }\n    }\n  ]\n}"
            }
          },
          "metadata": {},
          "execution_count": 17
        }
      ]
    },
    {
      "cell_type": "code",
      "source": [
        "#actual vs predicted plot testing\n",
        "\n",
        "import matplotlib.pyplot as plt\n",
        "\n",
        "plt.figure(figsize=(6,6))\n",
        "plt.scatter(y_test, y_pred_rf, alpha=0.7)\n",
        "plt.plot([y_test.min(), y_test.max()], [y_test.min(), y_test.max()], '--', color='red')\n",
        "plt.xlabel(\"Actual Compressive Strength (MPa)\")\n",
        "plt.ylabel(\"Predicted Strength (MPa)\")\n",
        "plt.title(\"Random Forest: Actual vs Predicted score\")\n",
        "plt.grid(True)\n",
        "plt.tight_layout()\n",
        "plt.show()\n"
      ],
      "metadata": {
        "colab": {
          "base_uri": "https://localhost:8080/",
          "height": 607
        },
        "id": "xuAWZtltrhSd",
        "outputId": "c76c3eb5-59f4-4094-d022-d1913f2e43e4"
      },
      "execution_count": 18,
      "outputs": [
        {
          "output_type": "display_data",
          "data": {
            "text/plain": [
              "<Figure size 600x600 with 1 Axes>"
            ],
            "image/png": "[encoded data removed]"
          },
          "metadata": {}
        }
      ]
    },
    {
      "cell_type": "code",
      "source": [
        "#all models compared\n",
        "\n",
        "comparison_df = pd.DataFrame({\n",
        "    'Actual': y_test.values,\n",
        "    'Linear Regression': y_pred_lr,\n",
        "    'Random Forest': y_pred_rf,\n",
        "    'GBM': y_pred_gbm,\n",
        "    'Neural Network': y_pred_nn\n",
        "})\n",
        "\n",
        "comparison_df.head()\n"
      ],
      "metadata": {
        "colab": {
          "base_uri": "https://localhost:8080/",
          "height": 206
        },
        "id": "rzidQ-a-gYlS",
        "outputId": "0ece5acb-a292-4de0-a693-edd2cb4cbb05"
      },
      "execution_count": 19,
      "outputs": [
        {
          "output_type": "execute_result",
          "data": {
            "text/plain": [
              "      Actual  Linear Regression  Random Forest        GBM  Neural Network\n",
              "0  52.908320          59.657163      51.934711  48.898782       48.330456\n",
              "1  55.895819          52.037144      40.677698  45.478309       41.641583\n",
              "2  74.497882          63.519839      70.813943  69.370915       73.632637\n",
              "3  35.301171          51.571366      34.923003  33.939904       36.447354\n",
              "4  10.535193          17.220160      11.159266  13.317017       10.780866"
            ],
            "text/html": [
              "\n",
              "  <div id=\"df-8b9e5bbc-10c9-4520-b52e-8bc46cf36ada\" class=\"colab-df-container\">\n",
              "    <div>\n",
              "<style scoped>\n",
              "    .dataframe tbody tr th:only-of-type {\n",
              "        vertical-align: middle;\n",
              "    }\n",
              "\n",
              "    .dataframe tbody tr th {\n",
              "        vertical-align: top;\n",
              "    }\n",
              "\n",
              "    .dataframe thead th {\n",
              "        text-align: right;\n",
              "    }\n",
              "</style>\n",
              "<table border=\"1\" class=\"dataframe\">\n",
              "  <thead>\n",
              "    <tr style=\"text-align: right;\">\n",
              "      <th></th>\n",
              "      <th>Actual</th>\n",
              "      <th>Linear Regression</th>\n",
              "      <th>Random Forest</th>\n",
              "      <th>GBM</th>\n",
              "      <th>Neural Network</th>\n",
              "    </tr>\n",
              "  </thead>\n",
              "  <tbody>\n",
              "    <tr>\n",
              "      <th>0</th>\n",
              "      <td>52.908320</td>\n",
              "      <td>59.657163</td>\n",
              "      <td>51.934711</td>\n",
              "      <td>48.898782</td>\n",
              "      <td>48.330456</td>\n",
              "    </tr>\n",
              "    <tr>\n",
              "      <th>1</th>\n",
              "      <td>55.895819</td>\n",
              "      <td>52.037144</td>\n",
              "      <td>40.677698</td>\n",
              "      <td>45.478309</td>\n",
              "      <td>41.641583</td>\n",
              "    </tr>\n",
              "    <tr>\n",
              "      <th>2</th>\n",
              "      <td>74.497882</td>\n",
              "      <td>63.519839</td>\n",
              "      <td>70.813943</td>\n",
              "      <td>69.370915</td>\n",
              "      <td>73.632637</td>\n",
              "    </tr>\n",
              "    <tr>\n",
              "      <th>3</th>\n",
              "      <td>35.301171</td>\n",
              "      <td>51.571366</td>\n",
              "      <td>34.923003</td>\n",
              "      <td>33.939904</td>\n",
              "      <td>36.447354</td>\n",
              "    </tr>\n",
              "    <tr>\n",
              "      <th>4</th>\n",
              "      <td>10.535193</td>\n",
              "      <td>17.220160</td>\n",
              "      <td>11.159266</td>\n",
              "      <td>13.317017</td>\n",
              "      <td>10.780866</td>\n",
              "    </tr>\n",
              "  </tbody>\n",
              "</table>\n",
              "</div>\n",
              "    <div class=\"colab-df-buttons\">\n",
              "\n",
              "  <div class=\"colab-df-container\">\n",
              "    <button class=\"colab-df-convert\" onclick=\"convertToInteractive('df-8b9e5bbc-10c9-4520-b52e-8bc46cf36ada')\"\n",
              "            title=\"Convert this dataframe to an interactive table.\"\n",
              "            style=\"display:none;\">\n",
              "\n",
              "  <svg xmlns=\"http://www.w3.org/2000/svg\" height=\"24px\" viewBox=\"0 -960 960 960\">\n",
              "    <path d=\"M120-120v-720h720v720H120Zm60-500h600v-160H180v160Zm220 220h160v-160H400v160Zm0 220h160v-160H400v160ZM180-400h160v-160H180v160Zm440 0h160v-160H620v160ZM180-180h160v-160H180v160Zm440 0h160v-160H620v160Z\"/>\n",
              "  </svg>\n",
              "    </button>\n",
              "\n",
              "  <style>\n",
              "    .colab-df-container {\n",
              "      display:flex;\n",
              "      gap: 12px;\n",
              "    }\n",
              "\n",
              "    .colab-df-convert {\n",
              "      background-color: #E8F0FE;\n",
              "      border: none;\n",
              "      border-radius: 50%;\n",
              "      cursor: pointer;\n",
              "      display: none;\n",
              "      fill: #1967D2;\n",
              "      height: 32px;\n",
              "      padding: 0 0 0 0;\n",
              "      width: 32px;\n",
              "    }\n",
              "\n",
              "    .colab-df-convert:hover {\n",
              "      background-color: #E2EBFA;\n",
              "      box-shadow: 0px 1px 2px rgba(60, 64, 67, 0.3), 0px 1px 3px 1px rgba(60, 64, 67, 0.15);\n",
              "      fill: #174EA6;\n",
              "    }\n",
              "\n",
              "    .colab-df-buttons div {\n",
              "      margin-bottom: 4px;\n",
              "    }\n",
              "\n",
              "    [theme=dark] .colab-df-convert {\n",
              "      background-color: #3B4455;\n",
              "      fill: #D2E3FC;\n",
              "    }\n",
              "\n",
              "    [theme=dark] .colab-df-convert:hover {\n",
              "      background-color: #434B5C;\n",
              "      box-shadow: 0px 1px 3px 1px rgba(0, 0, 0, 0.15);\n",
              "      filter: drop-shadow(0px 1px 2px rgba(0, 0, 0, 0.3));\n",
              "      fill: #FFFFFF;\n",
              "    }\n",
              "  </style>\n",
              "\n",
              "    <script>\n",
              "      const buttonEl =\n",
              "        document.querySelector('#df-8b9e5bbc-10c9-4520-b52e-8bc46cf36ada button.colab-df-convert');\n",
              "      buttonEl.style.display =\n",
              "        google.colab.kernel.accessAllowed ? 'block' : 'none';\n",
              "\n",
              "      async function convertToInteractive(key) {\n",
              "        const element = document.querySelector('#df-8b9e5bbc-10c9-4520-b52e-8bc46cf36ada');\n",
              "        const dataTable =\n",
              "          await google.colab.kernel.invokeFunction('convertToInteractive',\n",
              "                                                    [key], {});\n",
              "        if (!dataTable) return;\n",
              "\n",
              "        const docLinkHtml = 'Like what you see? Visit the ' +\n",
              "          '<a target=\"_blank\" href=https://colab.research.google.com/notebooks/data_table.ipynb>data table notebook</a>'\n",
              "          + ' to learn more about interactive tables.';\n",
              "        element.innerHTML = '';\n",
              "        dataTable['output_type'] = 'display_data';\n",
              "        await google.colab.output.renderOutput(dataTable, element);\n",
              "        const docLink = document.createElement('div');\n",
              "        docLink.innerHTML = docLinkHtml;\n",
              "        element.appendChild(docLink);\n",
              "      }\n",
              "    </script>\n",
              "  </div>\n",
              "\n",
              "\n",
              "<div id=\"df-2b8af8a1-3193-4a98-b466-f7cdd0a6e610\">\n",
              "  <button class=\"colab-df-quickchart\" onclick=\"quickchart('df-2b8af8a1-3193-4a98-b466-f7cdd0a6e610')\"\n",
              "            title=\"Suggest charts\"\n",
              "            style=\"display:none;\">\n",
              "\n",
              "<svg xmlns=\"http://www.w3.org/2000/svg\" height=\"24px\"viewBox=\"0 0 24 24\"\n",
              "     width=\"24px\">\n",
              "    <g>\n",
              "        <path d=\"M19 3H5c-1.1 0-2 .9-2 2v14c0 1.1.9 2 2 2h14c1.1 0 2-.9 2-2V5c0-1.1-.9-2-2-2zM9 17H7v-7h2v7zm4 0h-2V7h2v10zm4 0h-2v-4h2v4z\"/>\n",
              "    </g>\n",
              "</svg>\n",
              "  </button>\n",
              "\n",
              "<style>\n",
              "  .colab-df-quickchart {\n",
              "      --bg-color: #E8F0FE;\n",
              "      --fill-color: #1967D2;\n",
              "      --hover-bg-color: #E2EBFA;\n",
              "      --hover-fill-color: #174EA6;\n",
              "      --disabled-fill-color: #AAA;\n",
              "      --disabled-bg-color: #DDD;\n",
              "  }\n",
              "\n",
              "  [theme=dark] .colab-df-quickchart {\n",
              "      --bg-color: #3B4455;\n",
              "      --fill-color: #D2E3FC;\n",
              "      --hover-bg-color: #434B5C;\n",
              "      --hover-fill-color: #FFFFFF;\n",
              "      --disabled-bg-color: #3B4455;\n",
              "      --disabled-fill-color: #666;\n",
              "  }\n",
              "\n",
              "  .colab-df-quickchart {\n",
              "    background-color: var(--bg-color);\n",
              "    border: none;\n",
              "    border-radius: 50%;\n",
              "    cursor: pointer;\n",
              "    display: none;\n",
              "    fill: var(--fill-color);\n",
              "    height: 32px;\n",
              "    padding: 0;\n",
              "    width: 32px;\n",
              "  }\n",
              "\n",
              "  .colab-df-quickchart:hover {\n",
              "    background-color: var(--hover-bg-color);\n",
              "    box-shadow: 0 1px 2px rgba(60, 64, 67, 0.3), 0 1px 3px 1px rgba(60, 64, 67, 0.15);\n",
              "    fill: var(--button-hover-fill-color);\n",
              "  }\n",
              "\n",
              "  .colab-df-quickchart-complete:disabled,\n",
              "  .colab-df-quickchart-complete:disabled:hover {\n",
              "    background-color: var(--disabled-bg-color);\n",
              "    fill: var(--disabled-fill-color);\n",
              "    box-shadow: none;\n",
              "  }\n",
              "\n",
              "  .colab-df-spinner {\n",
              "    border: 2px solid var(--fill-color);\n",
              "    border-color: transparent;\n",
              "    border-bottom-color: var(--fill-color);\n",
              "    animation:\n",
              "      spin 1s steps(1) infinite;\n",
              "  }\n",
              "\n",
              "  @keyframes spin {\n",
              "    0% {\n",
              "      border-color: transparent;\n",
              "      border-bottom-color: var(--fill-color);\n",
              "      border-left-color: var(--fill-color);\n",
              "    }\n",
              "    20% {\n",
              "      border-color: transparent;\n",
              "      border-left-color: var(--fill-color);\n",
              "      border-top-color: var(--fill-color);\n",
              "    }\n",
              "    30% {\n",
              "      border-color: transparent;\n",
              "      border-left-color: var(--fill-color);\n",
              "      border-top-color: var(--fill-color);\n",
              "      border-right-color: var(--fill-color);\n",
              "    }\n",
              "    40% {\n",
              "      border-color: transparent;\n",
              "      border-right-color: var(--fill-color);\n",
              "      border-top-color: var(--fill-color);\n",
              "    }\n",
              "    60% {\n",
              "      border-color: transparent;\n",
              "      border-right-color: var(--fill-color);\n",
              "    }\n",
              "    80% {\n",
              "      border-color: transparent;\n",
              "      border-right-color: var(--fill-color);\n",
              "      border-bottom-color: var(--fill-color);\n",
              "    }\n",
              "    90% {\n",
              "      border-color: transparent;\n",
              "      border-bottom-color: var(--fill-color);\n",
              "    }\n",
              "  }\n",
              "</style>\n",
              "\n",
              "  <script>\n",
              "    async function quickchart(key) {\n",
              "      const quickchartButtonEl =\n",
              "        document.querySelector('#' + key + ' button');\n",
              "      quickchartButtonEl.disabled = true;  // To prevent multiple clicks.\n",
              "      quickchartButtonEl.classList.add('colab-df-spinner');\n",
              "      try {\n",
              "        const charts = await google.colab.kernel.invokeFunction(\n",
              "            'suggestCharts', [key], {});\n",
              "      } catch (error) {\n",
              "        console.error('Error during call to suggestCharts:', error);\n",
              "      }\n",
              "      quickchartButtonEl.classList.remove('colab-df-spinner');\n",
              "      quickchartButtonEl.classList.add('colab-df-quickchart-complete');\n",
              "    }\n",
              "    (() => {\n",
              "      let quickchartButtonEl =\n",
              "        document.querySelector('#df-2b8af8a1-3193-4a98-b466-f7cdd0a6e610 button');\n",
              "      quickchartButtonEl.style.display =\n",
              "        google.colab.kernel.accessAllowed ? 'block' : 'none';\n",
              "    })();\n",
              "  </script>\n",
              "</div>\n",
              "\n",
              "    </div>\n",
              "  </div>\n"
            ],
            "application/vnd.google.colaboratory.intrinsic+json": {
              "type": "dataframe",
              "variable_name": "comparison_df",
              "summary": "{\n  \"name\": \"comparison_df\",\n  \"rows\": 206,\n  \"fields\": [\n    {\n      \"column\": \"Actual\",\n      \"properties\": {\n        \"dtype\": \"number\",\n        \"std\": 16.091552722199836,\n        \"min\": 4.827710952,\n        \"max\": 75.49762199999999,\n        \"num_unique_values\": 203,\n        \"samples\": [\n          21.917063088,\n          48.846616696,\n          18.12632404\n        ],\n        \"semantic_type\": \"\",\n        \"description\": \"\"\n      }\n    },\n    {\n      \"column\": \"Linear Regression\",\n      \"properties\": {\n        \"dtype\": \"number\",\n        \"std\": 12.928964800957095,\n        \"min\": 13.061626105841018,\n        \"max\": 77.11281751857095,\n        \"num_unique_values\": 204,\n        \"samples\": [\n          44.4697173823795,\n          38.19395082906442,\n          22.259914743685016\n        ],\n        \"semantic_type\": \"\",\n        \"description\": \"\"\n      }\n    },\n    {\n      \"column\": \"Random Forest\",\n      \"properties\": {\n        \"dtype\": \"number\",\n        \"std\": 14.455988437489244,\n        \"min\": 5.149565243559996,\n        \"max\": 71.430403076,\n        \"num_unique_values\": 202,\n        \"samples\": [\n          23.49715592148,\n          22.63555223808001,\n          58.26735475912001\n        ],\n        \"semantic_type\": \"\",\n        \"description\": \"\"\n      }\n    },\n    {\n      \"column\": \"GBM\",\n      \"properties\": {\n        \"dtype\": \"number\",\n        \"std\": 14.465940740865127,\n        \"min\": 7.880873525187056,\n        \"max\": 75.30653561844869,\n        \"num_unique_values\": 198,\n        \"samples\": [\n          22.77541548259954,\n          17.024237163851556,\n          36.835054057887504\n        ],\n        \"semantic_type\": \"\",\n        \"description\": \"\"\n      }\n    },\n    {\n      \"column\": \"Neural Network\",\n      \"properties\": {\n        \"dtype\": \"number\",\n        \"std\": 15.411018824496308,\n        \"min\": 6.133139911610271,\n        \"max\": 76.35321439833616,\n        \"num_unique_values\": 204,\n        \"samples\": [\n          22.56257468096142,\n          47.779815907608096,\n          18.111487603152046\n        ],\n        \"semantic_type\": \"\",\n        \"description\": \"\"\n      }\n    }\n  ]\n}"
            }
          },
          "metadata": {},
          "execution_count": 19
        }
      ]
    },
    {
      "cell_type": "code",
      "source": [
        "#r2 score accuracy testing\n",
        "from sklearn.metrics import r2_score\n",
        "\n",
        "r2 = r2_score(y_test, y_pred_rf)\n",
        "print(\"r2 Score:\", r2)\n"
      ],
      "metadata": {
        "colab": {
          "base_uri": "https://localhost:8080/"
        },
        "id": "nAbpbvrYsD0V",
        "outputId": "d25c50cf-e5ac-42e1-d5a5-7a9c655f09b7"
      },
      "execution_count": 20,
      "outputs": [
        {
          "output_type": "stream",
          "name": "stdout",
          "text": [
            "r2 Score: 0.8821874643599863\n"
          ]
        }
      ]
    },
    {
      "cell_type": "markdown",
      "source": [
        "#references\n",
        "\n",
        "https://stackoverflow.com/questions/51459406/how-to-apply-standardscaler-in-pipeline-in-scikit-learn-sklearn\n",
        "\n",
        "https://stackoverflow.com/questions/56302294/ridge-regression-vs-lasso-regression\n",
        "\n",
        "https://archive.ics.uci.edu/ml/datasets/Concrete+Compressive+Strength\n",
        "\n",
        "https://scikit-learn.org/stable/modules/generated/sklearn.linear_model.LinearRegression.html\n",
        "\n",
        "https://scikit-learn.org/stable/modules/generated/sklearn.ensemble.RandomForestRegressor.html\n",
        "\n",
        "https://scikit-learn.org/stable/modules/generated/sklearn.ensemble.GradientBoostingRegressor.html\n",
        "\n",
        "https://scikit-learn.org/stable/modules/generated/sklearn.neural_network.MLPRegressor.html\n",
        "\n",
        "https://scikit-learn.org/stable/modules/generated/sklearn.model_selection.GridSearchCV.html\n",
        "\n",
        "https://scikit-learn.org/stable/modules/generated/sklearn.model_selection.cross_val_score.html\n",
        "\n",
        "https://scikit-learn.org/stable/modules/model_evaluation.html\n",
        "\n",
        "https://scikit-learn.org/stable/modules/classification_threshold.html\n",
        "\n",
        "https://scikit-learn.org/stable/modules/grid_search.html\n",
        "\n",
        "https://scikit-learn.org/stable/computing.html\n",
        "\n",
        "https://scikit-learn.org/stable/datasets.html\n",
        "\n",
        "https://scikit-learn.org/stable/data_transforms.html\n",
        "\n",
        "https://scikit-learn.org/stable/visualizations.html\n",
        "\n",
        "1.10. Decision Trees — scikit-learn 1.6.1 documentation\n",
        "\n",
        "https://www.datacamp.com/tutorial/decision-tree-classification-python\n",
        "\n",
        "https://stackoverflow.com/questions/73235377/singleton-array-cannot-be-considered-a-valid-collection\n",
        "\n",
        "https://www.datacamp.com/tutorial/decision-tree-classification-python\n",
        "\n",
        "https://stackoverflow.com/questions/32506951/how-to-explore-a-decision-tree-built-using-scikit-learn\n",
        "\n",
        "https://stackoverflow.com/questions/51170770/classification-algorithm-decision-tree\n",
        "\n",
        "https://stackoverflow.com/questions/61464069/regarding-prediction-of-decision-tree\n",
        "\n",
        "https://stats.stackexchange.com/questions/553721/need-help-with-understanding-decision-trees\n",
        "\n",
        "https://github.com/labex-labs/sklearn-free-tutorials\n",
        "\n",
        "https://stackoverflow.com/questions/30317119/classifiers-in-scikit-learn-that-handle-nan-null\n",
        "\n",
        "https://stackoverflow.com/questions/56821868/python-pause-loop-on-user-input\n",
        "\n",
        "https://stackoverflow.com/questions/50782852/how-to-send-goal-value-dynamically-from-website-to-google-analytics/50784545#50784545\n",
        "\n",
        "https://stackoverflow.com/questions/40155128/plot-trees-for-a-random-forest-in-python-with-scikit-learn\n",
        "\n",
        "https://github.com/xbeat/Machine-Learning/blob/main/15%20Most%20Commonly%20Used%20ML%20Algorithms%20in%20Python.md\n",
        "\n",
        "https://github.com/DCtheTall/hands-on-machine-learning\n",
        "\n",
        "https://stackoverflow.com/questions/76590378/why-does-randomforestclassifier-not-support-missing-values-while-decisiontreecla\n",
        "\n",
        "https://github.com/juanjocarin/W207-Machine-Learning/blob/master/Forest/W207-Carin_Mahmud_Sakhamuri.ipynb\n",
        "\n",
        "https://stackoverflow.com/questions/30766253/scikit-learn-random-forest-taking-up-too-much-memory\n",
        "\n",
        "https://github.com/joelgrus/random-forest-python\n",
        "\n",
        "https://stackoverflow.com/questions/50238302/spring-boot-javax-persistence-entitynotfoundexception-in-many-to-one-however-dat\n",
        "\n",
        "https://github.com/fchollet/deep-learning-with-python-notebooks\n",
        "\n",
        "https://stackoverflow.com/questions/41099228/a-recursive-puzzle-c-code/41099443#41099443\n",
        "\n",
        "https://github.com/rasbt/python-machine-learning-book\n",
        "\n",
        "https://stackoverflow.com/questions/41668884/how-to-remove-blank-spaces-from-data\n",
        "\n",
        "https://www.geeksforgeeks.org/building-and-implementing-decision-tree-classifiers-with-scikit-learn-a-comprehensive-guide/\n",
        "\n",
        "https://scikit-learn.org/stable/data_transforms.html\n",
        "\n",
        "https://scikit-learn.org/stable/modules/kernel_approximation.html\n",
        "\n",
        "https://scikit-learn.org/stable/computing.html\n",
        "\n",
        "https://scikit-learn.org/stable/modules/cross_validation.html\n",
        "\n",
        "https://scikit-learn.org/stable/modules/classification_threshold.html\n",
        "\n",
        "https://stackoverflow.com/questions/56824968/grid-search-for-keras-with-multiple-inputs\n",
        "\n",
        "https://stackoverflow.com/questions/42415076/how-to-insert-keras-model-into-scikit-learn-pipeline\n",
        "\n",
        "https://stackoverflow.com/questions/70550018/sklearn-custom-transformers-with-pipeline-all-the-input-array-dimensions-for-th\n",
        "\n",
        "https://stackoverflow.com/questions/44181511/hyperparameter-tune-for-tensorflow\n",
        "\n",
        "https://stackoverflow.com/questions/47279677/how-use-grid-search-with-fit-generator-in-keras\n",
        "\n",
        "https://stackoverflow.com/questions/44260217/hyperparameter-optimization-for-pytorch-model\n",
        "\n",
        "https://stackoverflow.com/questions/44802939/hyperparameter-tuning-of-tensorflow-model\n",
        "\n",
        "https://stackoverflow.com/questions/46580199/hyperparameter-in-voting-classifier\n",
        "\n",
        "https://stackoverflow.com/questions/79466339/mlp-with-data-and-physics-loss\n",
        "\n",
        "https://stackoverflow.com/questions/79209538/how-to-implement-a-dmlpcnn-model-with-two-mlps-blocks-in-python\n",
        "\n",
        "https://stackoverflow.com/questions/78979797/i-implemented-a-mlp-neural-network-in-c-but-if-i-normally-compile-it-doesnt\n",
        "\n",
        "https://stackoverflow.com/questions/78689386/attributeerror-mlpclassifier-object-has-no-attribute-best-validation-score\n",
        "\n",
        "https://stackoverflow.com/questions/78562670/mlp-with-single-hidden-layer-implemented-form-scratch-with-pytorch\n",
        "\n",
        "https://stackoverflow.com/questions/78383064/getting-worse-results-when-binary-cross-entropy-loss-is-computed-from-logits-in\n",
        "\n",
        "https://stackoverflow.com/questions/26821197/cv-function-in-ridgecv\n",
        "\n",
        "https://stackoverflow.com/questions/28064634/random-state-pseudo-random-number-in-scikit-learn\n",
        "\n",
        "https://scikit-learn.org/stable/modules/generated/sklearn.linear_model.LogisticRegression.html\n",
        "\n",
        "https://scikit-learn.org/stable/modules/generated/sklearn.linear_model.LogisticRegressionCV.html\n",
        "\n",
        "https://scikit-learn.org/stable/modules/generated/sklearn.linear_model.LinearRegression.html\n",
        "\n",
        "https://numpy.org/doc/stable/reference/generated/numpy.mean.html\n",
        "\n",
        "https://matplotlib.org/stable/api/_as_gen/matplotlib.pyplot.plot.html\n",
        "\n",
        "https://pandas.pydata.org/docs/reference/api/pandas.read_csv.html\n",
        "\n",
        "https://scikit-learn.org/stable/modules/generated/sklearn.metrics.mean_squared_error.html\n",
        "\n",
        "https://scikit-learn.org/stable/modules/generated/sklearn.metrics.r2_score.html\n",
        "\n",
        "https://scikit-learn.org/stable/modules/generated/sklearn.model_selection.cross_val_score.html\n",
        "\n",
        "https://stackoverflow.com/questions/37895372/predictions-of-ridge-regression-in-r\n",
        "\n",
        "https://stackoverflow.com/questions/13411544/delete-a-column-from-a-pandas-dataframe\n",
        "\n"
      ],
      "metadata": {
        "id": "DrrAp9pYtSec"
      }
    },
    {
      "cell_type": "code",
      "source": [],
      "metadata": {
        "id": "rmZZdbdatHDR"
      },
      "execution_count": 20,
      "outputs": []
    }
  ]
}